{
 "cells": [
  {
   "cell_type": "markdown",
   "metadata": {},
   "source": [
    "# CS Society Research Wing\n",
    "## Tools For Research | Chapter 1: Web Scraping\n"
   ]
  },
  {
   "cell_type": "markdown",
   "metadata": {},
   "source": [
    "### A Very Basic Intro to Python"
   ]
  },
  {
   "cell_type": "code",
   "execution_count": 5,
   "metadata": {},
   "outputs": [
    {
     "name": "stdout",
     "output_type": "stream",
     "text": [
      "100\n",
      "CS Society\n",
      "Hello world\n"
     ]
    }
   ],
   "source": [
    "A = \"CS Society\" # variables can contain strings\n",
    "B = 100 # variables can also contain numbers\n",
    "\n",
    "C = [100, 200, 300] # variables can also contain lists of values (values can be strings, numbers, other things also)\n",
    "\n",
    "print(C[-3]) # you can use rectangular brackets to *index* into a list, indexing also works in reverse using negative values\n",
    "\n",
    "print(A) # the print function can be used to print variables\n",
    "print(\"Hello world\") # or values directly"
   ]
  },
  {
   "cell_type": "markdown",
   "metadata": {},
   "source": [
    "#### OOH ARE THOSE FUNCTIONS?\n",
    "yes."
   ]
  },
  {
   "cell_type": "code",
   "execution_count": 6,
   "metadata": {},
   "outputs": [
    {
     "name": "stdout",
     "output_type": "stream",
     "text": [
      "20\n"
     ]
    }
   ],
   "source": [
    "def sampleFunction(num): # use the def keyword to 'def'ine a function; a function can take an input (in brackets) or it can be without input also\n",
    "    doubleNum = num * 2 # here we do some math\n",
    "    return doubleNum # a function can return a value (or values) if it wants to, but not required\n",
    "\n",
    "print(sampleFunction(10)) # this will double the number that you pass in the argument"
   ]
  },
  {
   "cell_type": "markdown",
   "metadata": {},
   "source": [
    "### Okay, before we scrape, some imports\n",
    "\n",
    "Python Programs can be packaged into modules/packages (the terminology is a bit hazy so forgive me), and we can import them and use them\n",
    "\n",
    "| Package | Purpose |\n",
    "| ----------- | ----------- |\n",
    "| requests | Sends a request to a website, so the website sends back it's HTML source code in return |\n",
    "| BeautifulSoup | Parses the HTML source code so that we can leverage the HTML tag organization and access the data in it |\n",
    "| pandas | Let's us create table-like data structures so we can keep large amounts of scraped data organized |\n",
    "| json | Helps us export data to .json files |\n",
    "| tabulate, pprint | Prints data in nice pretty looking ways |"
   ]
  },
  {
   "cell_type": "code",
   "execution_count": 7,
   "metadata": {},
   "outputs": [],
   "source": [
    "import requests # a standard import\n",
    "from bs4 import BeautifulSoup # imports BeautifulSoup FROM the bs4 library\n",
    "\n",
    "import pandas as pd # imports pandas, but gives it an ALIAS (pd). so now instead of typing out pandas to use it we can just type pd\n",
    "import json # more standard imports\n",
    "\n",
    "import tabulate \n",
    "import pprint"
   ]
  },
  {
   "cell_type": "markdown",
   "metadata": {},
   "source": [
    "### A function to do some NLP stuff\n",
    "\n",
    "NLP (Natural Language Processing) can do some pretty funky stuff with text, or more precisely, natural language text (stuff we say and write). In the function below we go through a list of reviews (of a book) and give them a polarity score using sentiment analysis. Feel free to mess around with it, but since this wasn't in the scope of a Web-Scraping Workshop, I didn't add comments. "
   ]
  },
  {
   "cell_type": "code",
   "execution_count": 8,
   "metadata": {},
   "outputs": [],
   "source": [
    "def performNLP(reviews):\n",
    "    # Credits Neil Chowdhury for this function\n",
    "    import nltk\n",
    "    from nltk.sentiment import vader\n",
    "    \n",
    "    def regressionGraph(reviews):\n",
    "        import seaborn as sns\n",
    "        import matplotlib.pyplot as plt\n",
    "        from sklearn.linear_model import LinearRegression\n",
    "        import numpy as np\n",
    "        \n",
    "        sns.regplot(x = [ x['rating'] for x in reviews ], y = [ x['polarity'] for x in reviews ], line_kws={'color':'red'}).set_title('Polarity vs Rating')\n",
    "        plt.show()\n",
    "         \n",
    "        x = np.array([ x['rating'] for x in reviews ]).reshape((-1, 1))\n",
    "        y = np.array([ x['polarity'] for x in reviews ]).reshape((-1, 1))\n",
    "        \n",
    "        model = LinearRegression().fit(x, y).score(x, y)\n",
    "        \n",
    "        print(\"Regression Coefficient:\", model)\n",
    "        \n",
    "    \n",
    "    def polarityScore(reviews):\n",
    "        sentimentIntensityAnalyzer = vader.SentimentIntensityAnalyzer()\n",
    "        for review in reviews:\n",
    "            review[\"polarity\"] = (sentimentIntensityAnalyzer.polarity_scores(review[\"review\"])['compound']+1)*(2)+1\n",
    "        return reviews\n",
    "\n",
    "    reviews = polarityScore(reviews)\n",
    "    \n",
    "    ratingList = [ review[\"rating\"] for review in reviews ]\n",
    "    polarityList = [ review[\"polarity\"] for review in reviews ]\n",
    "    \n",
    "    averageRating = sum(ratingList)/len(ratingList)\n",
    "    averagePolarity = sum(polarityList)/len(polarityList)\n",
    "    \n",
    "    print(tabulate.tabulate([[averageRating, averagePolarity]], headers=[\"Average Rating\", \"Average Polarity\"]))\n",
    "    \n",
    "    regressionGraph(reviews)\n"
   ]
  },
  {
   "cell_type": "markdown",
   "metadata": {},
   "source": [
    "### Another helper function to export our data\n",
    "\n",
    "We want to store our data in files so we can access them later - this does that. "
   ]
  },
  {
   "cell_type": "code",
   "execution_count": 9,
   "metadata": {},
   "outputs": [],
   "source": [
    "def exportData(title, author, rating, desc, image, reviews):\n",
    "    # export to json\n",
    "    data = {\n",
    "        \"title\": title,\n",
    "        \"author\": author,\n",
    "        \"rating\": rating,\n",
    "        \"desc\": desc,\n",
    "        \"image\": image\n",
    "    }\n",
    "\n",
    "    with open(f\"{title.replace(':', '-').replace(' ', '-')}.json\", \"w+\") as f:\n",
    "        json.dump(data, f)\n",
    "\n",
    "    # export image to title\n",
    "    with open(title.replace(':', '-').replace(' ', '-') + \".jpg\", \"wb\") as f:\n",
    "        f.write(requests.get(image).content)\n",
    "        \n",
    "    # export reviews to csv    \n",
    "    reviewsDF = pd.DataFrame(reviews)\n",
    "    \n",
    "    reviewsDF.to_csv(f\"{title.replace(':', '-').replace('/', '-').replace(' ', '-')}.csv\", index=False)"
   ]
  },
  {
   "cell_type": "markdown",
   "metadata": {},
   "source": [
    "## The Scraper Code itself\n",
    "\n",
    "There's comments throughout"
   ]
  },
  {
   "cell_type": "code",
   "execution_count": 10,
   "metadata": {},
   "outputs": [],
   "source": [
    "def webScraper(url):\n",
    "    # important, remember the .text at the end to avoid a parsing error\n",
    "    pageText = requests.get(url).text\n",
    "    \n",
    "    # this requires correct version of bs4 to be installed if using apt-get, if using pip it's all good. html.parser is included\n",
    "    soup = BeautifulSoup(pageText, 'html.parser')\n",
    "\n",
    "    # id == id, class == class_, attrs == attrs={\"name\": \"val\"}\n",
    "    # find only finds the FIRST instance of the query\n",
    "    bookTitle = soup.find('h1', id='bookTitle').get_text().replace('  ', '').replace('\\n', '')\n",
    "\n",
    "    print(bookTitle)\n",
    "\n",
    "    # find_all finds ALL instances of the query\n",
    "    bookAuthors = soup.find_all('div', class_='authorName__container')\n",
    "\n",
    "    bookAuthors_info = []\n",
    "\n",
    "    # a for loop\n",
    "    for bookAuthor in bookAuthors:\n",
    "        authorName = bookAuthor.find('span').get_text()\n",
    "        # find_parent finds the argument tag which is the parent. \n",
    "        # you can use .get to get some attribute\n",
    "        authorLink = bookAuthor.find('span').find_parent(\"a\").get(\"href\")\n",
    "        bookAuthors_info.append({\"name\": authorName, \"link\": authorLink})\n",
    "    \n",
    "    pprint.pprint(bookAuthors_info)\n",
    "\n",
    "    # show nested tag example using reviews\n",
    "    bookRating = float(soup.find('div', id='bookMeta').find('span', attrs={\"itemprop\": \"ratingValue\"}).get_text())\n",
    "\n",
    "    print(bookRating)\n",
    "\n",
    "    # show how this one has two, a shorter revealed one, and a longer hidden one. Also show how the id of the span \n",
    "    # might be different across different books, so we have to handle it recursively. Do a pprint or a tabulate to show the two elements\n",
    "    bookDescription = soup.find('div', id='descriptionContainer').find('div', id='description').find_all('span')\n",
    "\n",
    "    # pprint.pprint(bookDescription)\n",
    "\n",
    "    # get the last span tag, get the text from it, and remove the whitespaces and text formatting tags. \n",
    "    bookDescription = bookDescription[-1].get_text().replace('<i>', ' ').replace('</i>', ' ').replace('\\n', ' ').replace('  ', ' ')\n",
    "\n",
    "    print(bookDescription)\n",
    "\n",
    "    bookImage = soup.find('img', id='coverImage').get('src')\n",
    "\n",
    "    print(bookImage)\n",
    "    \n",
    "    # finds all the review blocks\n",
    "    bookReviewBlocks = soup.find_all('div', class_='friendReviews')\n",
    "\n",
    "    # initializes empty list    \n",
    "    bookReviews = list()\n",
    "\n",
    "    for bookReviewBlock in bookReviewBlocks:\n",
    "        # get the title of the review\n",
    "        reviewAuthor = bookReviewBlock.find('a', class_='imgcol').get('title').replace('  ', '').replace('\\n', '')\n",
    "    \n",
    "        # review text was obtained by finding the two spans, one which reveals on reveal.     \n",
    "        reviewText = bookReviewBlock.find('div', class_='bodycol').find('span', class_='readable').find_all('span')[-1].get_text().replace('<i>', ' ').replace('</i>', ' ').replace('\\n', ' ').replace('  ', ' ')\n",
    "        \n",
    "        # rating is obtained by counting the number of p10 objects, which contain the full stars\n",
    "        reviewRating = len(bookReviewBlock.find('div', class_='bodycol').find('div', class_='reviewHeader').find_all('span', class_='p10'))\n",
    "        \n",
    "        # append the reviews to the list\n",
    "        bookReviews.append({\"author\": reviewAuthor, \"review\": reviewText, \"rating\": reviewRating})\n",
    "\n",
    "\n",
    "    # ooooh what even is NLP?\n",
    "    performNLP(bookReviews)\n",
    "\n",
    "    exportData(bookTitle, bookAuthors_info, bookRating, bookDescription, bookImage, bookReviews)"
   ]
  },
  {
   "cell_type": "markdown",
   "metadata": {},
   "source": [
    "## Run the code!"
   ]
  },
  {
   "cell_type": "code",
   "execution_count": 11,
   "metadata": {},
   "outputs": [
    {
     "name": "stdout",
     "output_type": "stream",
     "text": [
      "Dune\n",
      "[{'link': 'https://www.goodreads.com/author/show/58.Frank_Herbert',\n",
      "  'name': 'Frank Herbert'}]\n",
      "4.24\n",
      "Set on the desert planet Arrakis, Dune is the story of the boy Paul Atreides, heir to a noble family tasked with ruling an inhospitable world where the only thing of value is the “spice” melange, a drug capable of extending life and enhancing consciousness. Coveted across the known universe, melange is a prize worth killing for...When House Atreides is betrayed, the destruction of Paul’s family will set the boy on a journey toward a destiny greater than he could ever have imagined. And as he evolves into the mysterious man known as Muad’Dib, he will bring to fruition humankind’s most ancient and unattainable dream.\n",
      "https://i.gr-assets.com/images/S/compressed.photo.goodreads.com/books/1555447414l/44767458.jpg\n",
      "  Average Rating    Average Polarity\n",
      "----------------  ------------------\n",
      "         3.76667             3.97327\n"
     ]
    },
    {
     "data": {
      "image/png": "[encoded data removed]",
      "text/plain": [
       "<Figure size 432x288 with 1 Axes>"
      ]
     },
     "metadata": {
      "needs_background": "light"
     },
     "output_type": "display_data"
    },
    {
     "name": "stdout",
     "output_type": "stream",
     "text": [
      "Regression Coefficient: 0.13763606609988444\n"
     ]
    }
   ],
   "source": [
    "webScraper(\"https://www.goodreads.com/book/show/44767458-dune\")"
   ]
  }
 ],
 "metadata": {
  "interpreter": {
   "hash": "7d74af9d7e93abf5d87f23b90ce22ee13e882c7fd3cb412568000010a82234ea"
  },
  "kernelspec": {
   "display_name": "Python 3.9.6 64-bit ('VENV': venv)",
   "language": "python",
   "name": "python3"
  },
  "language_info": {
   "codemirror_mode": {
    "name": "ipython",
    "version": 3
   },
   "file_extension": ".py",
   "mimetype": "text/x-python",
   "name": "python",
   "nbconvert_exporter": "python",
   "pygments_lexer": "ipython3",
   "version": "3.9.6"
  },
  "orig_nbformat": 4
 },
 "nbformat": 4,
 "nbformat_minor": 2
}
